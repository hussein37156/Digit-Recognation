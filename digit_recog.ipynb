{
 "cells": [
  {
   "cell_type": "markdown",
   "metadata": {},
   "source": [
    "importing modules"
   ]
  },
  {
   "cell_type": "code",
   "execution_count": 1,
   "metadata": {},
   "outputs": [],
   "source": [
    "import os \n",
    "import numpy as np # type: ignore\n",
    "import pandas as pd# type: ignore\n",
    "from matplotlib import pyplot as plt  # type: ignore"
   ]
  },
  {
   "cell_type": "markdown",
   "metadata": {},
   "source": [
    "importing data"
   ]
  },
  {
   "cell_type": "code",
   "execution_count": 2,
   "metadata": {},
   "outputs": [
    {
     "name": "stdout",
     "output_type": "stream",
     "text": [
      "file is found\n",
      "importing data on progress\n",
      "done importing data\n"
     ]
    }
   ],
   "source": [
    "data_path='data_sets/train.csv'\n",
    "\n",
    "if os.path.exists(data_path):\n",
    "    print('file is found')\n",
    "    print('importing data on progress')\n",
    "    data=pd.read_csv(data_path)\n",
    "    print('done importing data')\n",
    "    \n",
    "else:\n",
    "    print('no such file or directory')\n",
    "\n",
    "\n",
    "\n",
    "data=np.array(data)\n",
    "m,n=data.shape\n",
    "\n",
    "data_dev=data[0:1000].T\n",
    "Y_dev=data_dev[0]\n",
    "X_dev=data_dev[1:n]/255.0\n",
    "\n",
    "data_train=data[1000:m].T\n",
    "Y_train=data_train[0]\n",
    "X_train=data_train[1:n]/255.0\n",
    "\n",
    "mx,nx=X_train.shape\n",
    "\n",
    "\n",
    "\n"
   ]
  },
  {
   "cell_type": "markdown",
   "metadata": {},
   "source": [
    "define the activatrion function"
   ]
  },
  {
   "cell_type": "code",
   "execution_count": 3,
   "metadata": {},
   "outputs": [],
   "source": [
    "def ReLU(Z):\n",
    "    return np.maximum(Z,0)\n",
    "\n",
    "def ReLU_prime(Z):\n",
    "    return Z>0\n",
    "\n",
    "def softmax(Z):\n",
    "    return np.exp(Z)/sum(np.exp(Z))\n",
    "\n",
    "def one_hot(Y):\n",
    "    one_hot_Y = np.zeros((Y.size, Y.max() + 1))\n",
    "    one_hot_Y[np.arange(Y.size), Y] = 1\n",
    "    one_hot_Y = one_hot_Y.T\n",
    "    return one_hot_Y"
   ]
  },
  {
   "cell_type": "markdown",
   "metadata": {},
   "source": [
    "define propagation functions"
   ]
  },
  {
   "cell_type": "code",
   "execution_count": 4,
   "metadata": {},
   "outputs": [],
   "source": [
    "def params_init():\n",
    "    W1=np.random.rand(10,784)-0.5\n",
    "    b1=np.random.rand(10,1)-0.5\n",
    "    W2=np.random.rand(10,10)-0.5\n",
    "    b2=np.random.rand(10,1)-0.5\n",
    "    return W1,b1,W2,b2\n",
    "\n",
    "def forward_prop(W1,b1,W2,b2,X):\n",
    "    Z1=W1.dot(X)+b1\n",
    "    A1=ReLU(Z1)\n",
    "    Z2=W2.dot(A1)+b2\n",
    "    A2=softmax(Z2)\n",
    "    return Z1,A1,Z2,A2\n",
    "\n",
    "def backward_prop(Z1, A1, A2, W2, X, Y):\n",
    "    one_hot_Y = one_hot(Y)\n",
    "    dZ2 = A2 - one_hot_Y\n",
    "    dW2 = 1 / m * dZ2.dot(A1.T)\n",
    "    db2 = 1 / m * np.sum(dZ2)\n",
    "    dZ1 = W2.T.dot(dZ2) * ReLU_prime(Z1)\n",
    "    dW1 = 1 / m * dZ1.dot(X.T)\n",
    "    db1 = 1 / m * np.sum(dZ1)\n",
    "    return dW1, db1, dW2, db2\n",
    "\n",
    "def params_update(dW1,db1,dW2,db2,W1,b1,W2,b2,alpha):\n",
    "    W1=W1-alpha*dW1\n",
    "    W2=W2-alpha*dW2\n",
    "    b1=b1-alpha*db1\n",
    "    b2=b2-alpha*db2\n",
    "    return W1,b1,W2,b2"
   ]
  },
  {
   "cell_type": "markdown",
   "metadata": {},
   "source": [
    "Prediction and training"
   ]
  },
  {
   "cell_type": "code",
   "execution_count": 5,
   "metadata": {},
   "outputs": [],
   "source": [
    "def get_predictions(A2):\n",
    "    return np.argmax(A2, 0)\n",
    "\n",
    "def get_accuracy(predictions, Y):\n",
    "    print(predictions,Y)\n",
    "    return np.sum(predictions == Y) / Y.size\n",
    "\n",
    "def gradient_descent(X, Y, alpha, iterations):\n",
    "    W1, b1, W2, b2 = params_init()\n",
    "    for i in range(iterations):\n",
    "        Z1, A1, Z2, A2 = forward_prop(W1, b1, W2, b2, X)\n",
    "        dW1, db1, dW2, db2 = backward_prop(Z1, A1, A2, W2, X, Y)\n",
    "        W1, b1, W2, b2 = params_update(dW1,db1,dW2,db2,W1,b1,W2,b2,alpha)\n",
    "        if i % 10 == 0:\n",
    "            print(\"Iteration: \", i)\n",
    "            predictions = get_predictions(A2)\n",
    "            print(get_accuracy(predictions, Y))\n",
    "    return W1, b1, W2, b2"
   ]
  },
  {
   "cell_type": "markdown",
   "metadata": {},
   "source": [
    "Train the model"
   ]
  },
  {
   "cell_type": "code",
   "execution_count": 6,
   "metadata": {},
   "outputs": [
    {
     "name": "stdout",
     "output_type": "stream",
     "text": [
      "Iteration:  0\n",
      "[7 6 7 ... 0 7 7] [1 5 1 ... 7 6 9]\n",
      "0.0845609756097561\n",
      "Iteration:  10\n",
      "[8 6 8 ... 9 5 9] [1 5 1 ... 7 6 9]\n",
      "0.16251219512195123\n",
      "Iteration:  20\n",
      "[8 6 1 ... 9 6 9] [1 5 1 ... 7 6 9]\n",
      "0.2661951219512195\n",
      "Iteration:  30\n",
      "[1 6 1 ... 7 6 4] [1 5 1 ... 7 6 9]\n",
      "0.3524634146341463\n",
      "Iteration:  40\n",
      "[1 6 1 ... 7 6 4] [1 5 1 ... 7 6 9]\n",
      "0.41353658536585364\n",
      "Iteration:  50\n",
      "[1 6 1 ... 7 6 4] [1 5 1 ... 7 6 9]\n",
      "0.4607317073170732\n",
      "Iteration:  60\n",
      "[1 6 1 ... 7 6 4] [1 5 1 ... 7 6 9]\n",
      "0.49926829268292683\n",
      "Iteration:  70\n",
      "[1 6 1 ... 7 6 4] [1 5 1 ... 7 6 9]\n",
      "0.5316829268292683\n",
      "Iteration:  80\n",
      "[1 6 1 ... 7 6 4] [1 5 1 ... 7 6 9]\n",
      "0.5577560975609757\n",
      "Iteration:  90\n",
      "[1 6 1 ... 7 6 4] [1 5 1 ... 7 6 9]\n",
      "0.579780487804878\n",
      "Iteration:  100\n",
      "[1 8 1 ... 7 6 4] [1 5 1 ... 7 6 9]\n",
      "0.5988536585365853\n",
      "Iteration:  110\n",
      "[1 8 1 ... 7 6 4] [1 5 1 ... 7 6 9]\n",
      "0.6157560975609756\n",
      "Iteration:  120\n",
      "[1 8 1 ... 7 6 4] [1 5 1 ... 7 6 9]\n",
      "0.6321463414634146\n",
      "Iteration:  130\n",
      "[1 8 1 ... 7 6 4] [1 5 1 ... 7 6 9]\n",
      "0.6463170731707317\n",
      "Iteration:  140\n",
      "[1 8 1 ... 7 6 4] [1 5 1 ... 7 6 9]\n",
      "0.6595365853658537\n",
      "Iteration:  150\n",
      "[1 8 1 ... 7 6 4] [1 5 1 ... 7 6 9]\n",
      "0.6711463414634147\n",
      "Iteration:  160\n",
      "[1 6 1 ... 7 6 9] [1 5 1 ... 7 6 9]\n",
      "0.6830243902439025\n",
      "Iteration:  170\n",
      "[1 6 1 ... 7 6 9] [1 5 1 ... 7 6 9]\n",
      "0.694170731707317\n",
      "Iteration:  180\n",
      "[1 6 1 ... 7 6 9] [1 5 1 ... 7 6 9]\n",
      "0.7035121951219512\n",
      "Iteration:  190\n",
      "[1 6 1 ... 7 6 9] [1 5 1 ... 7 6 9]\n",
      "0.7131219512195122\n",
      "Iteration:  200\n",
      "[1 6 1 ... 7 6 9] [1 5 1 ... 7 6 9]\n",
      "0.7222682926829268\n",
      "Iteration:  210\n",
      "[1 6 1 ... 7 6 9] [1 5 1 ... 7 6 9]\n",
      "0.7291463414634146\n",
      "Iteration:  220\n",
      "[1 6 1 ... 7 6 9] [1 5 1 ... 7 6 9]\n",
      "0.7365121951219512\n",
      "Iteration:  230\n",
      "[1 6 1 ... 7 6 9] [1 5 1 ... 7 6 9]\n",
      "0.7438780487804878\n",
      "Iteration:  240\n",
      "[1 6 1 ... 7 6 9] [1 5 1 ... 7 6 9]\n",
      "0.7510487804878049\n",
      "Iteration:  250\n",
      "[1 6 1 ... 7 6 9] [1 5 1 ... 7 6 9]\n",
      "0.7570487804878049\n",
      "Iteration:  260\n",
      "[1 6 1 ... 7 6 9] [1 5 1 ... 7 6 9]\n",
      "0.7623414634146342\n",
      "Iteration:  270\n",
      "[1 6 1 ... 7 6 9] [1 5 1 ... 7 6 9]\n",
      "0.7684634146341464\n",
      "Iteration:  280\n",
      "[1 6 1 ... 7 6 9] [1 5 1 ... 7 6 9]\n",
      "0.7741219512195122\n",
      "Iteration:  290\n",
      "[1 6 1 ... 7 6 9] [1 5 1 ... 7 6 9]\n",
      "0.7786341463414634\n",
      "Iteration:  300\n",
      "[1 6 1 ... 7 6 9] [1 5 1 ... 7 6 9]\n",
      "0.7839024390243903\n",
      "Iteration:  310\n",
      "[1 6 1 ... 7 6 9] [1 5 1 ... 7 6 9]\n",
      "0.787829268292683\n",
      "Iteration:  320\n",
      "[1 6 1 ... 7 6 9] [1 5 1 ... 7 6 9]\n",
      "0.7917073170731708\n",
      "Iteration:  330\n",
      "[1 6 1 ... 7 6 9] [1 5 1 ... 7 6 9]\n",
      "0.7955365853658537\n",
      "Iteration:  340\n",
      "[1 6 1 ... 7 6 9] [1 5 1 ... 7 6 9]\n",
      "0.7989512195121952\n",
      "Iteration:  350\n",
      "[1 6 1 ... 7 6 9] [1 5 1 ... 7 6 9]\n",
      "0.8021463414634147\n",
      "Iteration:  360\n",
      "[1 8 1 ... 7 6 9] [1 5 1 ... 7 6 9]\n",
      "0.8049268292682927\n",
      "Iteration:  370\n",
      "[1 8 1 ... 7 6 9] [1 5 1 ... 7 6 9]\n",
      "0.8073902439024391\n",
      "Iteration:  380\n",
      "[1 8 1 ... 7 6 9] [1 5 1 ... 7 6 9]\n",
      "0.8104146341463415\n",
      "Iteration:  390\n",
      "[1 8 1 ... 7 6 9] [1 5 1 ... 7 6 9]\n",
      "0.8139756097560975\n",
      "Iteration:  400\n",
      "[1 8 1 ... 7 6 9] [1 5 1 ... 7 6 9]\n",
      "0.8164878048780487\n",
      "Iteration:  410\n",
      "[1 8 1 ... 7 6 9] [1 5 1 ... 7 6 9]\n",
      "0.8190975609756097\n",
      "Iteration:  420\n",
      "[1 8 1 ... 7 6 9] [1 5 1 ... 7 6 9]\n",
      "0.8216585365853658\n",
      "Iteration:  430\n",
      "[1 8 1 ... 7 6 9] [1 5 1 ... 7 6 9]\n",
      "0.8236829268292682\n",
      "Iteration:  440\n",
      "[1 8 1 ... 7 6 9] [1 5 1 ... 7 6 9]\n",
      "0.825780487804878\n",
      "Iteration:  450\n",
      "[1 8 1 ... 7 6 9] [1 5 1 ... 7 6 9]\n",
      "0.8278780487804878\n",
      "Iteration:  460\n",
      "[1 8 1 ... 7 6 9] [1 5 1 ... 7 6 9]\n",
      "0.8296585365853658\n",
      "Iteration:  470\n",
      "[1 8 1 ... 7 6 9] [1 5 1 ... 7 6 9]\n",
      "0.8317560975609756\n",
      "Iteration:  480\n",
      "[1 8 1 ... 7 6 9] [1 5 1 ... 7 6 9]\n",
      "0.8332682926829268\n",
      "Iteration:  490\n",
      "[1 8 1 ... 7 6 9] [1 5 1 ... 7 6 9]\n",
      "0.8348780487804878\n"
     ]
    }
   ],
   "source": [
    "W1, b1, W2, b2 = gradient_descent(X_train, Y_train, 0.1, 500)"
   ]
  },
  {
   "cell_type": "markdown",
   "metadata": {},
   "source": [
    "functions to test the model"
   ]
  },
  {
   "cell_type": "code",
   "execution_count": 7,
   "metadata": {},
   "outputs": [],
   "source": [
    "def make_predictions(X, W1, b1, W2, b2):\n",
    "    _, _, _, A2 = forward_prop(W1, b1, W2, b2, X)\n",
    "    predictions = get_predictions(A2)\n",
    "    return predictions\n",
    "\n",
    "def test_prediction(index, W1, b1, W2, b2): # test on testing data\n",
    "    current_image = X_dev[:, index, None]\n",
    "    prediction = make_predictions(X_dev[:, index, None], W1, b1, W2, b2)\n",
    "    label = Y_dev[index]\n",
    "    print(\"Prediction: \", prediction)\n",
    "    print(\"Label: \", label)\n",
    "    \n",
    "    current_image = current_image.reshape((28, 28)) * 255\n",
    "    plt.gray()\n",
    "    plt.imshow(current_image, interpolation='nearest')\n",
    "    plt.show()"
   ]
  },
  {
   "cell_type": "markdown",
   "metadata": {},
   "source": [
    "Test the model"
   ]
  },
  {
   "cell_type": "code",
   "execution_count": 10,
   "metadata": {},
   "outputs": [
    {
     "name": "stdout",
     "output_type": "stream",
     "text": [
      "Prediction:  [9]\n",
      "Label:  9\n"
     ]
    },
    {
     "data": {
      "image/png": "[encoded data removed]",
      "text/plain": [
       "<Figure size 640x480 with 1 Axes>"
      ]
     },
     "metadata": {},
     "output_type": "display_data"
    },
    {
     "name": "stdout",
     "output_type": "stream",
     "text": [
      "Prediction:  [9]\n",
      "Label:  9\n"
     ]
    },
    {
     "data": {
      "image/png": "[encoded data removed]",
      "text/plain": [
       "<Figure size 640x480 with 1 Axes>"
      ]
     },
     "metadata": {},
     "output_type": "display_data"
    },
    {
     "name": "stdout",
     "output_type": "stream",
     "text": [
      "Prediction:  [7]\n",
      "Label:  7\n"
     ]
    },
    {
     "data": {
      "image/png": "[encoded data removed]",
      "text/plain": [
       "<Figure size 640x480 with 1 Axes>"
      ]
     },
     "metadata": {},
     "output_type": "display_data"
    },
    {
     "name": "stdout",
     "output_type": "stream",
     "text": [
      "Prediction:  [8]\n",
      "Label:  8\n"
     ]
    },
    {
     "data": {
      "image/png": "[encoded data removed]",
      "text/plain": [
       "<Figure size 640x480 with 1 Axes>"
      ]
     },
     "metadata": {},
     "output_type": "display_data"
    },
    {
     "name": "stdout",
     "output_type": "stream",
     "text": [
      "Prediction:  [9]\n",
      "Label:  9\n"
     ]
    },
    {
     "data": {
      "image/png": "[encoded data removed]",
      "text/plain": [
       "<Figure size 640x480 with 1 Axes>"
      ]
     },
     "metadata": {},
     "output_type": "display_data"
    },
    {
     "name": "stdout",
     "output_type": "stream",
     "text": [
      "Prediction:  [4]\n",
      "Label:  4\n"
     ]
    },
    {
     "data": {
      "image/png": "[encoded data removed]",
      "text/plain": [
       "<Figure size 640x480 with 1 Axes>"
      ]
     },
     "metadata": {},
     "output_type": "display_data"
    },
    {
     "name": "stdout",
     "output_type": "stream",
     "text": [
      "Prediction:  [9]\n",
      "Label:  9\n"
     ]
    },
    {
     "data": {
      "image/png": "[encoded data removed]",
      "text/plain": [
       "<Figure size 640x480 with 1 Axes>"
      ]
     },
     "metadata": {},
     "output_type": "display_data"
    },
    {
     "name": "stdout",
     "output_type": "stream",
     "text": [
      "Prediction:  [6]\n",
      "Label:  2\n"
     ]
    },
    {
     "data": {
      "image/png": "[encoded data removed]",
      "text/plain": [
       "<Figure size 640x480 with 1 Axes>"
      ]
     },
     "metadata": {},
     "output_type": "display_data"
    },
    {
     "name": "stdout",
     "output_type": "stream",
     "text": [
      "Prediction:  [1]\n",
      "Label:  1\n"
     ]
    },
    {
     "data": {
      "image/png": "[encoded data removed]",
      "text/plain": [
       "<Figure size 640x480 with 1 Axes>"
      ]
     },
     "metadata": {},
     "output_type": "display_data"
    },
    {
     "name": "stdout",
     "output_type": "stream",
     "text": [
      "Prediction:  [3]\n",
      "Label:  3\n"
     ]
    },
    {
     "data": {
      "image/png": "[encoded data removed]",
      "text/plain": [
       "<Figure size 640x480 with 1 Axes>"
      ]
     },
     "metadata": {},
     "output_type": "display_data"
    },
    {
     "name": "stdout",
     "output_type": "stream",
     "text": [
      "Prediction:  [1]\n",
      "Label:  1\n"
     ]
    },
    {
     "data": {
      "image/png": "[encoded data removed]",
      "text/plain": [
       "<Figure size 640x480 with 1 Axes>"
      ]
     },
     "metadata": {},
     "output_type": "display_data"
    },
    {
     "name": "stdout",
     "output_type": "stream",
     "text": [
      "Prediction:  [1]\n",
      "Label:  1\n"
     ]
    },
    {
     "data": {
      "image/png": "[encoded data removed]",
      "text/plain": [
       "<Figure size 640x480 with 1 Axes>"
      ]
     },
     "metadata": {},
     "output_type": "display_data"
    }
   ],
   "source": [
    "counter=np.random.randint(0, 100)\n",
    "for i in range(counter, counter+12):\n",
    "    test_prediction(i, W1, b1, W2, b2)"
   ]
  }
 ],
 "metadata": {
  "kernelspec": {
   "display_name": "Python 3",
   "language": "python",
   "name": "python3"
  },
  "language_info": {
   "codemirror_mode": {
    "name": "ipython",
    "version": 3
   },
   "file_extension": ".py",
   "mimetype": "text/x-python",
   "name": "python",
   "nbconvert_exporter": "python",
   "pygments_lexer": "ipython3",
   "version": "3.12.3"
  }
 },
 "nbformat": 4,
 "nbformat_minor": 2
}
